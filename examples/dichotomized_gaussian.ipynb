{
 "cells": [
  {
   "cell_type": "code",
   "execution_count": 12,
   "metadata": {},
   "outputs": [
    {
     "name": "stdout",
     "output_type": "stream",
     "text": [
      "The autoreload extension is already loaded. To reload it, use:\n",
      "  %reload_ext autoreload\n"
     ]
    }
   ],
   "source": [
    "import sys\n",
    "sys.path.append(\"/home/diego/python/convolution-kernels/\")\n",
    "sys.path.append(\"/home/diego/python/stochastic-processes/\")\n",
    "sys.path.append(\"/home/diego/python/utils/\")\n",
    "\n",
    "import matplotlib.pyplot as plt\n",
    "import numpy as np\n",
    "\n",
    "from kernel.fun import KernelFun\n",
    "from processes.renewal_process import RenewalProcess\n",
    "# from processes.gaussian_process import GaussianProcess\n",
    "from processes.dichotomized_gaussian import DichotomizedGaussian\n",
    "from signals import raw_autocorrelation\n",
    "\n",
    "%load_ext autoreload\n",
    "%autoreload 2"
   ]
  },
  {
   "cell_type": "code",
   "execution_count": 16,
   "metadata": {},
   "outputs": [
    {
     "ename": "LinAlgError",
     "evalue": "3-th leading minor not positive definite",
     "output_type": "error",
     "traceback": [
      "\u001b[0;31m---------------------------------------------------------------------------\u001b[0m",
      "\u001b[0;31mLinAlgError\u001b[0m                               Traceback (most recent call last)",
      "\u001b[0;32m<ipython-input-16-c151d982c11c>\u001b[0m in \u001b[0;36m<module>\u001b[0;34m\u001b[0m\n\u001b[1;32m      6\u001b[0m \u001b[0;34m\u001b[0m\u001b[0m\n\u001b[1;32m      7\u001b[0m \u001b[0mdg\u001b[0m \u001b[0;34m=\u001b[0m \u001b[0mDichotomizedGaussian\u001b[0m\u001b[0;34m(\u001b[0m\u001b[0mlam\u001b[0m\u001b[0;34m=\u001b[0m\u001b[0;36m10\u001b[0m\u001b[0;34m,\u001b[0m \u001b[0mraw_autocorrelation\u001b[0m\u001b[0;34m=\u001b[0m\u001b[0mraw_autocorr\u001b[0m\u001b[0;34m)\u001b[0m\u001b[0;34m\u001b[0m\u001b[0;34m\u001b[0m\u001b[0m\n\u001b[0;32m----> 8\u001b[0;31m \u001b[0mdg\u001b[0m\u001b[0;34m.\u001b[0m\u001b[0mset_t\u001b[0m\u001b[0;34m(\u001b[0m\u001b[0mt\u001b[0m\u001b[0;34m)\u001b[0m\u001b[0;34m\u001b[0m\u001b[0;34m\u001b[0m\u001b[0m\n\u001b[0m",
      "\u001b[0;32m~/python/stochastic-processes/processes/dichotomized_gaussian.py\u001b[0m in \u001b[0;36mset_t\u001b[0;34m(self, t, drho)\u001b[0m\n\u001b[1;32m     38\u001b[0m \u001b[0;34m\u001b[0m\u001b[0m\n\u001b[1;32m     39\u001b[0m         \u001b[0mself\u001b[0m\u001b[0;34m.\u001b[0m\u001b[0mgp\u001b[0m \u001b[0;34m=\u001b[0m \u001b[0mGaussianProcess\u001b[0m\u001b[0;34m(\u001b[0m\u001b[0mmu\u001b[0m\u001b[0;34m=\u001b[0m\u001b[0mmu\u001b[0m\u001b[0;34m,\u001b[0m \u001b[0mautocov\u001b[0m\u001b[0;34m=\u001b[0m\u001b[0mautocov\u001b[0m\u001b[0;34m)\u001b[0m\u001b[0;34m\u001b[0m\u001b[0;34m\u001b[0m\u001b[0m\n\u001b[0;32m---> 40\u001b[0;31m         \u001b[0mself\u001b[0m\u001b[0;34m.\u001b[0m\u001b[0mgp\u001b[0m\u001b[0;34m.\u001b[0m\u001b[0mset_t\u001b[0m\u001b[0;34m(\u001b[0m\u001b[0mt\u001b[0m\u001b[0;34m,\u001b[0m \u001b[0minv_cov\u001b[0m\u001b[0;34m=\u001b[0m\u001b[0;32mFalse\u001b[0m\u001b[0;34m,\u001b[0m \u001b[0mcholesky\u001b[0m\u001b[0;34m=\u001b[0m\u001b[0;32mTrue\u001b[0m\u001b[0;34m)\u001b[0m\u001b[0;34m\u001b[0m\u001b[0;34m\u001b[0m\u001b[0m\n\u001b[0m\u001b[1;32m     41\u001b[0m \u001b[0;34m\u001b[0m\u001b[0m\n\u001b[1;32m     42\u001b[0m         \u001b[0;32mreturn\u001b[0m \u001b[0mself\u001b[0m\u001b[0;34m\u001b[0m\u001b[0;34m\u001b[0m\u001b[0m\n",
      "\u001b[0;32m~/python/stochastic-processes/processes/gaussian_process.py\u001b[0m in \u001b[0;36mset_t\u001b[0;34m(self, t, inv_cov, cholesky)\u001b[0m\n\u001b[1;32m     31\u001b[0m \u001b[0;34m\u001b[0m\u001b[0m\n\u001b[1;32m     32\u001b[0m         \u001b[0;32mif\u001b[0m \u001b[0mcholesky\u001b[0m\u001b[0;34m:\u001b[0m\u001b[0;34m\u001b[0m\u001b[0;34m\u001b[0m\u001b[0m\n\u001b[0;32m---> 33\u001b[0;31m             \u001b[0mch\u001b[0m \u001b[0;34m=\u001b[0m \u001b[0mcholesky_banded\u001b[0m\u001b[0;34m(\u001b[0m\u001b[0mcov\u001b[0m\u001b[0;34m,\u001b[0m \u001b[0mlower\u001b[0m\u001b[0;34m=\u001b[0m\u001b[0;32mTrue\u001b[0m\u001b[0;34m)\u001b[0m\u001b[0;34m\u001b[0m\u001b[0;34m\u001b[0m\u001b[0m\n\u001b[0m\u001b[1;32m     34\u001b[0m             \u001b[0mself\u001b[0m\u001b[0;34m.\u001b[0m\u001b[0mch_lower\u001b[0m \u001b[0;34m=\u001b[0m \u001b[0munband_matrix\u001b[0m\u001b[0;34m(\u001b[0m\u001b[0mch\u001b[0m\u001b[0;34m,\u001b[0m \u001b[0msymmetric\u001b[0m\u001b[0;34m=\u001b[0m\u001b[0;32mFalse\u001b[0m\u001b[0;34m,\u001b[0m \u001b[0mlower\u001b[0m\u001b[0;34m=\u001b[0m\u001b[0;32mTrue\u001b[0m\u001b[0;34m)\u001b[0m\u001b[0;34m\u001b[0m\u001b[0;34m\u001b[0m\u001b[0m\n\u001b[1;32m     35\u001b[0m \u001b[0;34m\u001b[0m\u001b[0m\n",
      "\u001b[0;32m~/.local/lib/python3.6/site-packages/scipy/linalg/decomp_cholesky.py\u001b[0m in \u001b[0;36mcholesky_banded\u001b[0;34m(ab, overwrite_ab, lower, check_finite)\u001b[0m\n\u001b[1;32m    280\u001b[0m     \u001b[0mc\u001b[0m\u001b[0;34m,\u001b[0m \u001b[0minfo\u001b[0m \u001b[0;34m=\u001b[0m \u001b[0mpbtrf\u001b[0m\u001b[0;34m(\u001b[0m\u001b[0mab\u001b[0m\u001b[0;34m,\u001b[0m \u001b[0mlower\u001b[0m\u001b[0;34m=\u001b[0m\u001b[0mlower\u001b[0m\u001b[0;34m,\u001b[0m \u001b[0moverwrite_ab\u001b[0m\u001b[0;34m=\u001b[0m\u001b[0moverwrite_ab\u001b[0m\u001b[0;34m)\u001b[0m\u001b[0;34m\u001b[0m\u001b[0;34m\u001b[0m\u001b[0m\n\u001b[1;32m    281\u001b[0m     \u001b[0;32mif\u001b[0m \u001b[0minfo\u001b[0m \u001b[0;34m>\u001b[0m \u001b[0;36m0\u001b[0m\u001b[0;34m:\u001b[0m\u001b[0;34m\u001b[0m\u001b[0;34m\u001b[0m\u001b[0m\n\u001b[0;32m--> 282\u001b[0;31m         \u001b[0;32mraise\u001b[0m \u001b[0mLinAlgError\u001b[0m\u001b[0;34m(\u001b[0m\u001b[0;34m\"%d-th leading minor not positive definite\"\u001b[0m \u001b[0;34m%\u001b[0m \u001b[0minfo\u001b[0m\u001b[0;34m)\u001b[0m\u001b[0;34m\u001b[0m\u001b[0;34m\u001b[0m\u001b[0m\n\u001b[0m\u001b[1;32m    283\u001b[0m     \u001b[0;32mif\u001b[0m \u001b[0minfo\u001b[0m \u001b[0;34m<\u001b[0m \u001b[0;36m0\u001b[0m\u001b[0;34m:\u001b[0m\u001b[0;34m\u001b[0m\u001b[0;34m\u001b[0m\u001b[0m\n\u001b[1;32m    284\u001b[0m         raise ValueError('illegal value in %d-th argument of internal pbtrf'\n",
      "\u001b[0;31mLinAlgError\u001b[0m: 3-th leading minor not positive definite"
     ]
    }
   ],
   "source": [
    "dt = 1\n",
    "t = np.arange(0, 200, dt)\n",
    "lam = 1e-3\n",
    "raw_autocorr = 0 * np.exp(-t / 20) + (lam * dt)**2\n",
    "raw_autocorr[0] = lam * dt * (1 - lam * dt)\n",
    "\n",
    "dg = DichotomizedGaussian(lam=10, raw_autocorrelation=raw_autocorr)\n",
    "dg.set_t(t)"
   ]
  },
  {
   "cell_type": "code",
   "execution_count": 339,
   "metadata": {},
   "outputs": [
    {
     "data": {
      "text/plain": [
       "[<matplotlib.lines.Line2D at 0x7f5fcf63b4a8>]"
      ]
     },
     "execution_count": 339,
     "metadata": {},
     "output_type": "execute_result"
    },
    {
     "data": {
      "image/png": "[encoded data removed]",
      "text/plain": [
       "<Figure size 432x288 with 1 Axes>"
      ]
     },
     "metadata": {
      "needs_background": "light"
     },
     "output_type": "display_data"
    }
   ],
   "source": [
    "def double_exp(t, A, tr, td, t0):\n",
    "    return A * tr * td / (td - tr) * (np.exp(-(t - t0) / td) - np.exp(-(t - t0) / tr))\n",
    "\n",
    "n_trials = 5000\n",
    "t = np.arange(0, 500, 1)\n",
    "\n",
    "b, A, tr, td, t0 = -4.5, 0.2, 5, 50, 12\n",
    "t0 = 2\n",
    "\n",
    "eta = KernelFun(double_exp, basis_kwargs=dict(A=np.array([A])), shared_kwargs=dict(tr=tr, td=td, t0=t0), \n",
    "            coefs=np.array([1]), support=[0, tr * td / (td - tr) + td * 7])\n",
    "# eta = KernelFun(lambda t, A, td: A * np.exp(-t / td), basis_kwargs=dict(A=np.array([1])), \n",
    "#                 shared_kwargs=dict(td=td), \n",
    "#               coefs=np.array([1]), support=[0, td * 7])\n",
    "rp = RenewalProcess(b, eta)\n",
    "\n",
    "u, r, mask_spikes = rp.sample(t, shape=(n_trials,))\n",
    "n_spikes = np.sum(mask_spikes, 0)\n",
    "raw_autocor = np.mean(raw_autocorrelation(mask_spikes, biased=False), 1)\n",
    "\n",
    "lam = np.mean(n_spikes) / (len(t) * 1)\n",
    "\n",
    "fig, ax1 = plt.subplots()\n",
    "ax1.plot(raw_autocor[1:350])"
   ]
  },
  {
   "cell_type": "code",
   "execution_count": 343,
   "metadata": {},
   "outputs": [
    {
     "name": "stdout",
     "output_type": "stream",
     "text": [
      "small error\n"
     ]
    }
   ],
   "source": [
    "from scipy.special import erfinv\n",
    "from scipy.stats import multivariate_normal\n",
    "from processes.gaussian_process import GaussianProcess\n",
    "\n",
    "from sptr.sptr import SpikeTrain\n",
    "\n",
    "cov0 = 1e1\n",
    "p = np.mean(n_spikes) / len(t)\n",
    "mu = np.sqrt(2 * cov0) * erfinv(2 * p - 1)\n",
    "drho = 1e-3\n",
    "rho_gauss = np.arange(-1 + drho, 1, drho)\n",
    "\n",
    "maxpts = 1e6 * 2\n",
    "\n",
    "rho_dg = []\n",
    "for _rho_gauss in rho_gauss:\n",
    "    cov_gauss = np.array([[cov0, cov0 * _rho_gauss], [cov0 * _rho_gauss, cov0]])\n",
    "    rho_dg.append(1 + multivariate_normal.cdf([0, 0], mean=np.ones(2) * mu, cov=cov_gauss, maxpts=maxpts) - \\\n",
    "                  2 * multivariate_normal.cdf([0], mean=np.ones(1) * mu, cov=np.array([cov0]), maxpts=maxpts))\n",
    "rho_dg = np.array(rho_dg)\n",
    "\n",
    "error_rho = np.abs(raw_autocor[1:250, None] - rho_dg[None, :])\n",
    "argmin = np.argmin(error_rho, 1)\n",
    "autocov = cov0 * rho_gauss[argmin]\n",
    "raw_autocorr_dg = rho_dg[argmin]\n",
    "error_rho = np.abs(raw_autocor[1:250] - raw_autocorr_dg)\n",
    "if np.all(error_rho / np.abs(raw_autocor[1:250]) < 1e-1):\n",
    "    print('small error')\n",
    "autocov[0] = cov0"
   ]
  },
  {
   "cell_type": "code",
   "execution_count": 344,
   "metadata": {},
   "outputs": [
    {
     "data": {
      "text/plain": [
       "[<matplotlib.lines.Line2D at 0x7f5fcf279668>]"
      ]
     },
     "execution_count": 344,
     "metadata": {},
     "output_type": "execute_result"
    },
    {
     "data": {
      "image/png": "[encoded data removed]",
      "text/plain": [
       "<Figure size 432x288 with 2 Axes>"
      ]
     },
     "metadata": {
      "needs_background": "light"
     },
     "output_type": "display_data"
    }
   ],
   "source": [
    "fig, (ax1, ax2) = plt.subplots(ncols=2)\n",
    "ax1.plot(rho_dg)\n",
    "\n",
    "plt.plot(autocov)\n",
    "# plt.plot(error_rho)\n",
    "# plt.plot(raw_autocor[1:250])\n",
    "# plt.plot(raw_autocorr_dg)"
   ]
  },
  {
   "cell_type": "code",
   "execution_count": 345,
   "metadata": {},
   "outputs": [
    {
     "ename": "LinAlgError",
     "evalue": "71-th leading minor not positive definite",
     "output_type": "error",
     "traceback": [
      "\u001b[0;31m---------------------------------------------------------------------------\u001b[0m",
      "\u001b[0;31mLinAlgError\u001b[0m                               Traceback (most recent call last)",
      "\u001b[0;32m<ipython-input-345-596d7456ced7>\u001b[0m in \u001b[0;36m<module>\u001b[0;34m\u001b[0m\n\u001b[1;32m      1\u001b[0m \u001b[0;31m# autocov = 4e0 * np.exp(-np.arange(0, len(autocov), 1) / 20)\u001b[0m\u001b[0;34m\u001b[0m\u001b[0;34m\u001b[0m\u001b[0;34m\u001b[0m\u001b[0m\n\u001b[1;32m      2\u001b[0m \u001b[0mgp\u001b[0m \u001b[0;34m=\u001b[0m \u001b[0mGaussianProcess\u001b[0m\u001b[0;34m(\u001b[0m\u001b[0mmu\u001b[0m\u001b[0;34m=\u001b[0m\u001b[0mmu\u001b[0m\u001b[0;34m,\u001b[0m \u001b[0mautocov\u001b[0m\u001b[0;34m=\u001b[0m\u001b[0mautocov\u001b[0m\u001b[0;34m)\u001b[0m\u001b[0;34m\u001b[0m\u001b[0;34m\u001b[0m\u001b[0m\n\u001b[0;32m----> 3\u001b[0;31m \u001b[0mgp\u001b[0m\u001b[0;34m.\u001b[0m\u001b[0mset_t\u001b[0m\u001b[0;34m(\u001b[0m\u001b[0mt\u001b[0m\u001b[0;34m)\u001b[0m\u001b[0;34m\u001b[0m\u001b[0;34m\u001b[0m\u001b[0m\n\u001b[0m\u001b[1;32m      4\u001b[0m \u001b[0;34m\u001b[0m\u001b[0m\n\u001b[1;32m      5\u001b[0m \u001b[0mu\u001b[0m \u001b[0;34m=\u001b[0m \u001b[0mgp\u001b[0m\u001b[0;34m.\u001b[0m\u001b[0msample\u001b[0m\u001b[0;34m(\u001b[0m\u001b[0mshape\u001b[0m\u001b[0;34m=\u001b[0m\u001b[0;34m(\u001b[0m\u001b[0;36m5000\u001b[0m\u001b[0;34m,\u001b[0m\u001b[0;34m)\u001b[0m\u001b[0;34m)\u001b[0m\u001b[0;34m\u001b[0m\u001b[0;34m\u001b[0m\u001b[0m\n",
      "\u001b[0;32m~/python/stochastic-processes/processes/gaussian_process.py\u001b[0m in \u001b[0;36mset_t\u001b[0;34m(self, t, inv_cov, cholesky)\u001b[0m\n\u001b[1;32m     31\u001b[0m \u001b[0;34m\u001b[0m\u001b[0m\n\u001b[1;32m     32\u001b[0m         \u001b[0;32mif\u001b[0m \u001b[0mcholesky\u001b[0m\u001b[0;34m:\u001b[0m\u001b[0;34m\u001b[0m\u001b[0;34m\u001b[0m\u001b[0m\n\u001b[0;32m---> 33\u001b[0;31m             \u001b[0mch\u001b[0m \u001b[0;34m=\u001b[0m \u001b[0mcholesky_banded\u001b[0m\u001b[0;34m(\u001b[0m\u001b[0mcov\u001b[0m\u001b[0;34m,\u001b[0m \u001b[0mlower\u001b[0m\u001b[0;34m=\u001b[0m\u001b[0;32mTrue\u001b[0m\u001b[0;34m)\u001b[0m\u001b[0;34m\u001b[0m\u001b[0;34m\u001b[0m\u001b[0m\n\u001b[0m\u001b[1;32m     34\u001b[0m             \u001b[0mself\u001b[0m\u001b[0;34m.\u001b[0m\u001b[0mch_lower\u001b[0m \u001b[0;34m=\u001b[0m \u001b[0munband_matrix\u001b[0m\u001b[0;34m(\u001b[0m\u001b[0mch\u001b[0m\u001b[0;34m,\u001b[0m \u001b[0msymmetric\u001b[0m\u001b[0;34m=\u001b[0m\u001b[0;32mFalse\u001b[0m\u001b[0;34m,\u001b[0m \u001b[0mlower\u001b[0m\u001b[0;34m=\u001b[0m\u001b[0;32mTrue\u001b[0m\u001b[0;34m)\u001b[0m\u001b[0;34m\u001b[0m\u001b[0;34m\u001b[0m\u001b[0m\n\u001b[1;32m     35\u001b[0m \u001b[0;34m\u001b[0m\u001b[0m\n",
      "\u001b[0;32m~/.local/lib/python3.6/site-packages/scipy/linalg/decomp_cholesky.py\u001b[0m in \u001b[0;36mcholesky_banded\u001b[0;34m(ab, overwrite_ab, lower, check_finite)\u001b[0m\n\u001b[1;32m    280\u001b[0m     \u001b[0mc\u001b[0m\u001b[0;34m,\u001b[0m \u001b[0minfo\u001b[0m \u001b[0;34m=\u001b[0m \u001b[0mpbtrf\u001b[0m\u001b[0;34m(\u001b[0m\u001b[0mab\u001b[0m\u001b[0;34m,\u001b[0m \u001b[0mlower\u001b[0m\u001b[0;34m=\u001b[0m\u001b[0mlower\u001b[0m\u001b[0;34m,\u001b[0m \u001b[0moverwrite_ab\u001b[0m\u001b[0;34m=\u001b[0m\u001b[0moverwrite_ab\u001b[0m\u001b[0;34m)\u001b[0m\u001b[0;34m\u001b[0m\u001b[0;34m\u001b[0m\u001b[0m\n\u001b[1;32m    281\u001b[0m     \u001b[0;32mif\u001b[0m \u001b[0minfo\u001b[0m \u001b[0;34m>\u001b[0m \u001b[0;36m0\u001b[0m\u001b[0;34m:\u001b[0m\u001b[0;34m\u001b[0m\u001b[0;34m\u001b[0m\u001b[0m\n\u001b[0;32m--> 282\u001b[0;31m         \u001b[0;32mraise\u001b[0m \u001b[0mLinAlgError\u001b[0m\u001b[0;34m(\u001b[0m\u001b[0;34m\"%d-th leading minor not positive definite\"\u001b[0m \u001b[0;34m%\u001b[0m \u001b[0minfo\u001b[0m\u001b[0;34m)\u001b[0m\u001b[0;34m\u001b[0m\u001b[0;34m\u001b[0m\u001b[0m\n\u001b[0m\u001b[1;32m    283\u001b[0m     \u001b[0;32mif\u001b[0m \u001b[0minfo\u001b[0m \u001b[0;34m<\u001b[0m \u001b[0;36m0\u001b[0m\u001b[0;34m:\u001b[0m\u001b[0;34m\u001b[0m\u001b[0;34m\u001b[0m\u001b[0m\n\u001b[1;32m    284\u001b[0m         raise ValueError('illegal value in %d-th argument of internal pbtrf'\n",
      "\u001b[0;31mLinAlgError\u001b[0m: 71-th leading minor not positive definite"
     ]
    }
   ],
   "source": [
    "# autocov = 4e0 * np.exp(-np.arange(0, len(autocov), 1) / 20)\n",
    "gp = GaussianProcess(mu=mu, autocov=autocov)\n",
    "gp.set_t(t)\n",
    "\n",
    "u = gp.sample(shape=(5000,))\n",
    "x = u > 0\n",
    "gp_autocorr = np.mean(raw_autocorrelation(u, biased=False), 1) - mu**2\n",
    "raw_autocor2 = np.mean(raw_autocorrelation(x, biased=False), 1) \n",
    "\n",
    "print(np.mean(u), np.mean((u - mu)**2), mu, cov0)\n",
    "print(np.mean(np.sum(mask_spikes, 0)),  np.mean(np.sum(x, 0)))\n",
    "\n",
    "fig, (ax1, ax2) = plt.subplots(figsize=(18, 4), nrows=2)\n",
    "ax1.plot(u[:, 0])\n",
    "SpikeTrain(t, x[:, :1]).plot(ax=ax2, ms=0.7)\n",
    "\n",
    "fig, (ax1, ax2) = plt.subplots(figsize=(8, 4), ncols=2)\n",
    "ax1.plot(raw_autocor[1:350])\n",
    "ax1.plot(raw_autocor2[1:350])\n",
    "# ax1.set_ylim(-1e-5, 4e-4)\n",
    "# ax1.set_ylim(3e-4, 1e-3)\n",
    "ax2.plot(autocov[1:250])\n",
    "ax2.plot(gp_autocorr[1:250])"
   ]
  },
  {
   "cell_type": "code",
   "execution_count": 257,
   "metadata": {},
   "outputs": [
    {
     "data": {
      "text/plain": [
       "(0.017821999999999998, 0.0177516)"
      ]
     },
     "execution_count": 257,
     "metadata": {},
     "output_type": "execute_result"
    }
   ],
   "source": [
    "raw_autocor[0], raw_autocor2[0]"
   ]
  },
  {
   "cell_type": "code",
   "execution_count": 48,
   "metadata": {},
   "outputs": [],
   "source": [
    "import numpy as np\n",
    "from scipy.special import erfinv\n",
    "\n",
    "# from .utils import get_dt\n",
    "\n",
    "def get_dt(t):\n",
    "    arg_dt = 20 if len(t) >= 20 else len(t)\n",
    "    dt = np.mean(np.diff(t[:arg_dt]))\n",
    "    return dt\n",
    "\n",
    "class DichotomizedGaussian:\n",
    "    \"\"\"Sample stationary spike trains using the Dichotomized Gaussian (Macke et al 2009).\n",
    "\n",
    "    Attributes:\n",
    "        lam (str): Baseline firing rate\n",
    "        attr2 (:obj:`int`, optional): Description of `attr2`.\n",
    "\n",
    "    \"\"\"\n",
    "    def __init__(self, lam=0, raw_autocorrelation=1, drho=1e-3):\n",
    "        self.lam = lam\n",
    "        self.raw_autocorrelation = raw_autocorrelation\n",
    "        \n",
    "        self.mu = np.sqrt(2) * erfinv(2 * p - 1)\n",
    "        \n",
    "        rho_gauss = np.arange(-1 + drho, 1, drho)\n",
    "\n",
    "        rho_dg = []\n",
    "        for _rho_gauss in rho_gauss:\n",
    "            cov_gauss = np.array([[1, _rho_gauss], [_rho_gauss, 1]])\n",
    "            rho_dg.append(1 + multivariate_normal.cdf([0, 0], mean=np.ones(2) * mu, cov=cov_gauss) - \\\n",
    "                          2 * multivariate_normal.cdf([0], mean=np.ones(1) * mu, cov=np.array([1])))\n",
    "        rho_dg = np.array(rho_dg)\n",
    "        \n",
    "        self.autocov = rho_gauss[np.argmin((raw_autocorrelation - rho_dg[None, :])**2, 1)]\n",
    "        self.autocov[0] = 1\n",
    "        \n",
    "        self.gp = GaussianProcess(mu=self.mu, autocov=self.autocov)\n",
    "\n",
    "    def set_t(t)\n",
    "#         self.t = t\n",
    "        self.gp.set_t(t, inv_cov=False, cholesky=True)\n",
    "        return self\n",
    "    \n",
    "    def sample(self, t=None, shape=(1,), seed=None):\n",
    "        gp_samples = self.gp.sample(shape=shape, seed=seed)\n",
    "        mask_spikes = gp_samples > 0\n",
    "        return mask_spikes\n",
    "    \n",
    "    def sample2(self, t, shape=(1,), seed=None):\n",
    "        \"\"\"Sample spike trains.\n",
    "\n",
    "        Args:\n",
    "            t: 1d-array of time points\n",
    "            shape: Output is a mask x with x.shape = (len(t),) + shape\n",
    "            seed: sets numpy seed\n",
    "\n",
    "        Returns:\n",
    "            Boolean mask of spikes\n",
    "\n",
    "        \"\"\"\n",
    "        np.random.seed(seed)\n",
    "        \n",
    "        dt = get_dt(t)\n",
    "        \n",
    "        p = self.lam * dt\n",
    "        mu = np.sqrt(2) * erfinv(2 * p - 1)\n",
    "        print(p, mu)\n",
    "#         var = p * (1 - p)\n",
    "        var = 1\n",
    "        \n",
    "        gaussian_samples = np.random.multivariate_normal(np.ones(len(t)) * mu, np.eye(len(t)) * var, size=shape).T\n",
    "        print(gaussian_samples[:, 0])\n",
    "        \n",
    "        mask_spikes = gaussian_samples > 0\n",
    "            \n",
    "        return mask_spikes"
   ]
  },
  {
   "cell_type": "code",
   "execution_count": 58,
   "metadata": {},
   "outputs": [
    {
     "name": "stdout",
     "output_type": "stream",
     "text": [
      "0.01 -2.3263478740408408\n",
      "[-2.30744134 -0.67529888 -0.38457111 ... -2.64873573 -1.94806413\n",
      " -3.10625501]\n"
     ]
    }
   ],
   "source": [
    "dg = DichotomizedGaussian(lam=10)\n",
    "t = np.arange(0, 2, 1e-3)\n",
    "\n",
    "mask_spikes = dg.sample(t, shape=(100,))"
   ]
  },
  {
   "cell_type": "code",
   "execution_count": 59,
   "metadata": {},
   "outputs": [
    {
     "data": {
      "text/plain": [
       "19.96"
      ]
     },
     "execution_count": 59,
     "metadata": {},
     "output_type": "execute_result"
    }
   ],
   "source": [
    "np.mean(np.sum(mask_spikes, 0))"
   ]
  },
  {
   "cell_type": "code",
   "execution_count": 19,
   "metadata": {},
   "outputs": [
    {
     "data": {
      "text/plain": [
       "(0.6554217416103242, 0.3445782583896758, 0.3445782583896758)"
      ]
     },
     "execution_count": 19,
     "metadata": {},
     "output_type": "execute_result"
    }
   ],
   "source": [
    "p = 0.4\n",
    "1 / 2 * (1 + erf(p / np.sqrt(2))), 1 / 2 * (1 + erf(-p / np.sqrt(2))), 1 - 1 / 2 * (1 + erf(p / np.sqrt(2)))"
   ]
  },
  {
   "cell_type": "code",
   "execution_count": null,
   "metadata": {},
   "outputs": [],
   "source": []
  }
 ],
 "metadata": {
  "kernelspec": {
   "display_name": "Python 3",
   "language": "python",
   "name": "python3"
  },
  "language_info": {
   "codemirror_mode": {
    "name": "ipython",
    "version": 3
   },
   "file_extension": ".py",
   "mimetype": "text/x-python",
   "name": "python",
   "nbconvert_exporter": "python",
   "pygments_lexer": "ipython3",
   "version": "3.6.9"
  }
 },
 "nbformat": 4,
 "nbformat_minor": 2
}
