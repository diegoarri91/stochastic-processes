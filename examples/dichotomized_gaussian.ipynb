{
 "cells": [
  {
   "cell_type": "code",
   "execution_count": 1,
   "metadata": {},
   "outputs": [],
   "source": [
    "import sys\n",
    "sys.path.append(\"/home/diego/python/convolution-kernels/\")\n",
    "sys.path.append(\"/home/diego/python/stochastic-processes/\")\n",
    "sys.path.append(\"/home/diego/python/utils/\")\n",
    "\n",
    "import matplotlib.pyplot as plt\n",
    "import numpy as np\n",
    "\n",
    "from kernel.fun import KernelFun\n",
    "from processes.renewal_process import RenewalProcess\n",
    "# from processes.gaussian_process import GaussianProcess\n",
    "from processes.dichotomized_gaussian import DichotomizedGaussian\n",
    "from signals import raw_autocorrelation\n",
    "\n",
    "%load_ext autoreload\n",
    "%autoreload 2"
   ]
  },
  {
   "cell_type": "code",
   "execution_count": 2,
   "metadata": {},
   "outputs": [
    {
     "ename": "NameError",
     "evalue": "name 'A' is not defined",
     "output_type": "error",
     "traceback": [
      "\u001b[0;31m---------------------------------------------------------------------------\u001b[0m",
      "\u001b[0;31mNameError\u001b[0m                                 Traceback (most recent call last)",
      "\u001b[0;32m<ipython-input-2-8831c946afa4>\u001b[0m in \u001b[0;36m<module>\u001b[0;34m\u001b[0m\n\u001b[0;32m----> 1\u001b[0;31m \u001b[0mA\u001b[0m \u001b[0;34m*\u001b[0m \u001b[0mB\u001b[0m\u001b[0;34m,\u001b[0m \u001b[0;34m(\u001b[0m\u001b[0mlam\u001b[0m \u001b[0;34m*\u001b[0m \u001b[0;36m1\u001b[0m\u001b[0;34m)\u001b[0m\u001b[0;34m**\u001b[0m\u001b[0;36m2\u001b[0m\u001b[0;34m\u001b[0m\u001b[0;34m\u001b[0m\u001b[0m\n\u001b[0m",
      "\u001b[0;31mNameError\u001b[0m: name 'A' is not defined"
     ]
    }
   ],
   "source": [
    "A * B, (lam * 1)**2"
   ]
  },
  {
   "cell_type": "code",
   "execution_count": 20,
   "metadata": {},
   "outputs": [
    {
     "data": {
      "text/plain": [
       "[<matplotlib.lines.Line2D at 0x7fa01cf5a2e8>]"
      ]
     },
     "execution_count": 20,
     "metadata": {},
     "output_type": "execute_result"
    },
    {
     "data": {
      "image/png": "[encoded data removed]",
      "text/plain": [
       "<Figure size 432x288 with 2 Axes>"
      ]
     },
     "metadata": {
      "needs_background": "light"
     },
     "output_type": "display_data"
    }
   ],
   "source": [
    "dt = 0.5\n",
    "t = np.arange(0, 2000, dt)\n",
    "\n",
    "# lam = 1e-3\n",
    "# t_autocorr = np.arange(0, 200, 1)\n",
    "# raw_autocorr = 1e-4 * np.exp(-t_autocorr / 20) + (lam * dt)**2\n",
    "# raw_autocorr[0] = lam * dt * (1 - lam * dt)\n",
    "\n",
    "lam, B, A, tau = 0.004124496282873486, 0.0014329870000000001, 0.0029678339000000003, 104.5595075186\n",
    "\n",
    "# if B < 0:\n",
    "#     B = (lam * dt)**2 / A\n",
    "# else:\n",
    "#     lam = np.sqrt(A * B) / dt\n",
    "\n",
    "t_autocorr = np.arange(0, tau * 12, dt)\n",
    "raw_autocorr = A * (B + np.exp(-t_autocorr / tau))\n",
    "raw_autocorr[0] = lam * dt * (1 - lam * dt)\n",
    "\n",
    "dg = DichotomizedGaussian(lam=lam, raw_autocorrelation=raw_autocorr)\n",
    "try:\n",
    "    dg.set_t(t)\n",
    "except(np.linalg.LinAlgError):\n",
    "    print('holi')\n",
    "\n",
    "fig, (ax1, ax2) = plt.subplots(ncols=2)\n",
    "ax1.plot(t_autocorr, raw_autocorr)\n",
    "ax2.plot(t_autocorr, dg.gp.autocov)\n",
    "\n",
    "dg.gp.set_cov(t)\n",
    "\n",
    "dg.gp.cov = dg.gp.cov + 5 * np.eye(len(t))\n",
    "\n",
    "mask_spikes = dg.sample(t, shape=(100,), cholesky=False)\n",
    "raw_autocorr_samples = np.mean(raw_autocorrelation(mask_spikes), 1)\n",
    "ax1.plot(raw_autocorr_samples[:len(t_autocorr)])"
   ]
  },
  {
   "cell_type": "code",
   "execution_count": 18,
   "metadata": {},
   "outputs": [
    {
     "data": {
      "text/plain": [
       "1254.7140902232"
      ]
     },
     "execution_count": 18,
     "metadata": {},
     "output_type": "execute_result"
    }
   ],
   "source": [
    "tau * 12"
   ]
  },
  {
   "cell_type": "code",
   "execution_count": 4,
   "metadata": {},
   "outputs": [
    {
     "data": {
      "text/plain": [
       "-0.0"
      ]
     },
     "execution_count": 4,
     "metadata": {},
     "output_type": "execute_result"
    }
   ],
   "source": [
    "np.linalg.det(dg.gp.cov)"
   ]
  },
  {
   "cell_type": "code",
   "execution_count": 8,
   "metadata": {},
   "outputs": [],
   "source": [
    "eigvals = np.linalg.eigvals(dg.gp.cov)\n",
    "# u, svals, v = np.linalg.svd(dg.gp.cov)"
   ]
  },
  {
   "cell_type": "code",
   "execution_count": 16,
   "metadata": {},
   "outputs": [
    {
     "data": {
      "text/plain": [
       "[<matplotlib.lines.Line2D at 0x7fa01d09af60>]"
      ]
     },
     "execution_count": 16,
     "metadata": {},
     "output_type": "execute_result"
    },
    {
     "data": {
      "image/png": "[encoded data removed]",
      "text/plain": [
       "<Figure size 432x288 with 1 Axes>"
      ]
     },
     "metadata": {
      "needs_background": "light"
     },
     "output_type": "display_data"
    }
   ],
   "source": [
    "plt.plot(eigvals[10:20])"
   ]
  },
  {
   "cell_type": "code",
   "execution_count": 17,
   "metadata": {},
   "outputs": [
    {
     "data": {
      "text/plain": [
       "-3.0095795983048275"
      ]
     },
     "execution_count": 17,
     "metadata": {},
     "output_type": "execute_result"
    }
   ],
   "source": [
    "np.min(eigvals)"
   ]
  },
  {
   "cell_type": "code",
   "execution_count": 7,
   "metadata": {},
   "outputs": [
    {
     "data": {
      "text/plain": [
       "3.6892648566968235e-06"
      ]
     },
     "execution_count": 7,
     "metadata": {},
     "output_type": "execute_result"
    }
   ],
   "source": [
    "np.min(svals)"
   ]
  },
  {
   "cell_type": "code",
   "execution_count": 102,
   "metadata": {},
   "outputs": [
    {
     "name": "stdout",
     "output_type": "stream",
     "text": [
      "26\n"
     ]
    }
   ],
   "source": [
    "\n",
    "cutoff = 1e-1\n",
    "\n",
    "cov2 = np.exp(-(t_autocorr[:, None] - t_autocorr[None, :])**2 / sigma**2)\n",
    "\n",
    "u, s, v = np.linalg.svd(cov2)\n",
    "\n",
    "arg = len(s) - np.searchsorted(s[::-1], cutoff)\n",
    "print(arg)"
   ]
  },
  {
   "cell_type": "code",
   "execution_count": 103,
   "metadata": {},
   "outputs": [
    {
     "data": {
      "text/plain": [
       "False"
      ]
     },
     "execution_count": 103,
     "metadata": {},
     "output_type": "execute_result"
    }
   ],
   "source": [
    "cov3 = u[:, :arg] @ (s[:arg, None] * v[:arg, :])\n",
    "np.allclose(cov2, cov3)"
   ]
  },
  {
   "cell_type": "code",
   "execution_count": 116,
   "metadata": {},
   "outputs": [],
   "source": [
    "inv_cov2 = np.linalg.pinv(cov2, rcond=1e-15, hermitian=True)"
   ]
  },
  {
   "cell_type": "code",
   "execution_count": 117,
   "metadata": {},
   "outputs": [
    {
     "data": {
      "text/plain": [
       "array([[ 4.65373352e+14, -6.81071090e+14,  7.75492935e+14, ...,\n",
       "        -1.72268224e+16, -1.24492883e+16,  1.00870590e+16],\n",
       "       [-1.89391179e+15,  2.52585358e+15,  2.46253400e+15, ...,\n",
       "        -2.56386397e+16, -2.64415071e+16,  3.42160006e+16],\n",
       "       [ 1.71681736e+15, -2.09151846e+15, -6.27704375e+15, ...,\n",
       "         8.58100565e+16,  8.20927796e+16, -8.66896851e+16],\n",
       "       ...,\n",
       "       [-5.95671377e+13,  9.73752952e+13,  1.56220524e+14, ...,\n",
       "        -2.00511442e+15, -2.01732549e+15,  2.41246889e+15],\n",
       "       [ 4.61408780e+13, -2.66386867e+13,  7.22750994e+13, ...,\n",
       "        -1.39329476e+15, -1.56519071e+15,  1.74170324e+15],\n",
       "       [ 1.61558688e+12, -2.94111353e+13, -1.11180438e+14, ...,\n",
       "         1.61121326e+15,  1.74353648e+15, -2.01675017e+15]])"
      ]
     },
     "execution_count": 117,
     "metadata": {},
     "output_type": "execute_result"
    }
   ],
   "source": [
    "np.linalg.inv(cov2)"
   ]
  },
  {
   "cell_type": "code",
   "execution_count": 118,
   "metadata": {},
   "outputs": [
    {
     "data": {
      "text/plain": [
       "array([[ 9.99732188e+10, -1.23765586e+10, -7.24444662e+10, ...,\n",
       "         2.51441528e+10,  6.86688260e+09, -3.69555722e+10],\n",
       "       [-1.23765586e+10,  1.63022617e+09,  9.12959028e+09, ...,\n",
       "        -3.03455686e+09, -8.46278316e+08,  4.42622331e+09],\n",
       "       [-7.24444662e+10,  9.12959028e+09,  5.31405865e+10, ...,\n",
       "        -2.04878828e+10, -5.56049066e+09,  3.01952589e+10],\n",
       "       ...,\n",
       "       [ 2.51441528e+10, -3.03455686e+09, -2.04878828e+10, ...,\n",
       "         2.75420981e+10,  6.29010530e+09, -4.29159168e+10],\n",
       "       [ 6.86688260e+09, -8.46278316e+08, -5.56049066e+09, ...,\n",
       "         6.29010530e+09,  1.53966188e+09, -9.60778321e+09],\n",
       "       [-3.69555722e+10,  4.42622331e+09,  3.01952589e+10, ...,\n",
       "        -4.29159168e+10, -9.60778321e+09,  6.72350772e+10]])"
      ]
     },
     "execution_count": 118,
     "metadata": {},
     "output_type": "execute_result"
    }
   ],
   "source": [
    "inv_cov2"
   ]
  },
  {
   "cell_type": "code",
   "execution_count": 104,
   "metadata": {},
   "outputs": [
    {
     "data": {
      "text/plain": [
       "(-0.0, 0.0, 2.2524130355684698e+20, 4.210071605616095e+19)"
      ]
     },
     "execution_count": 104,
     "metadata": {},
     "output_type": "execute_result"
    }
   ],
   "source": [
    "np.linalg.det(cov2), np.linalg.det(cov3), np.linalg.cond(cov2), np.linalg.cond(cov3)"
   ]
  },
  {
   "cell_type": "code",
   "execution_count": 105,
   "metadata": {},
   "outputs": [
    {
     "data": {
      "text/plain": [
       "(array([[-0.0045679 ,  0.00913211, -0.01368891, ...,  0.02078663,\n",
       "          0.00612253,  0.00481525],\n",
       "        [-0.00466347,  0.00931955, -0.01396079, ...,  0.00484928,\n",
       "         -0.02696101,  0.01278809],\n",
       "        [-0.00475998,  0.00950869, -0.01423471, ..., -0.00797494,\n",
       "          0.01114536, -0.0141757 ],\n",
       "        ...,\n",
       "        [-0.00475998, -0.00950869, -0.01423471, ...,  0.0133517 ,\n",
       "         -0.00192618, -0.00284376],\n",
       "        [-0.00466347, -0.00931955, -0.01396079, ...,  0.00378043,\n",
       "         -0.01971679,  0.01893643],\n",
       "        [-0.0045679 , -0.00913211, -0.01368891, ..., -0.00252366,\n",
       "         -0.00572608,  0.03079692]]),\n",
       " array([1.22738146e+02, 1.18823532e+02, 1.12577387e+02, 1.04385835e+02,\n",
       "        9.47318709e+01, 8.41480281e+01, 7.31679811e+01, 6.22831499e+01,\n",
       "        5.19090025e+01, 4.23638008e+01, 3.38603924e+01, 2.65097510e+01,\n",
       "        2.03336042e+01, 1.52827953e+01, 1.12579959e+01, 8.12987812e+00,\n",
       "        5.75665383e+00, 3.99779422e+00, 2.72356488e+00, 1.82064530e+00,\n",
       "        1.19450081e+00, 7.69348767e-01, 4.86560179e-01, 3.02221446e-01,\n",
       "        1.84410765e-01, 1.10564115e-01, 1.13409118e-13, 1.09013373e-13,\n",
       "        8.19542458e-14, 7.07344306e-14, 6.64217175e-14, 5.92771489e-14,\n",
       "        5.81727130e-14, 5.10473025e-14, 4.52942676e-14, 4.49196622e-14,\n",
       "        4.24491063e-14, 4.05951694e-14, 3.91471991e-14, 3.49836741e-14,\n",
       "        3.31760882e-14, 3.30508764e-14, 2.99704405e-14, 2.62921307e-14,\n",
       "        2.48750699e-14, 2.35422726e-14, 2.26067373e-14, 2.13680129e-14,\n",
       "        2.01132704e-14, 1.96563049e-14, 1.94330400e-14, 1.82981157e-14,\n",
       "        1.78901267e-14, 1.65979477e-14, 1.55074293e-14, 1.44358747e-14,\n",
       "        1.35191995e-14, 1.31262796e-14, 1.24719669e-14, 1.23914162e-14,\n",
       "        1.23412933e-14, 1.19097007e-14, 1.07778494e-14, 9.84432630e-15,\n",
       "        7.71923133e-15, 7.57430489e-15, 7.36011183e-15, 7.36011183e-15,\n",
       "        7.36011183e-15, 7.36011183e-15, 7.36011183e-15, 7.36011183e-15,\n",
       "        7.36011183e-15, 7.36011183e-15, 7.36011183e-15, 7.36011183e-15,\n",
       "        7.36011183e-15, 7.36011183e-15, 7.36011183e-15, 7.36011183e-15,\n",
       "        7.36011183e-15, 7.36011183e-15, 7.36011183e-15, 7.36011183e-15,\n",
       "        7.36011183e-15, 7.36011183e-15, 7.36011183e-15, 7.36011183e-15,\n",
       "        7.36011183e-15, 7.36011183e-15, 7.36011183e-15, 7.36011183e-15,\n",
       "        7.36011183e-15, 7.36011183e-15, 7.36011183e-15, 7.36011183e-15,\n",
       "        7.36011183e-15, 7.36011183e-15, 7.36011183e-15, 7.36011183e-15,\n",
       "        7.36011183e-15, 7.36011183e-15, 7.36011183e-15, 7.36011183e-15,\n",
       "        7.36011183e-15, 7.36011183e-15, 7.36011183e-15, 7.36011183e-15,\n",
       "        7.36011183e-15, 7.36011183e-15, 7.36011183e-15, 7.36011183e-15,\n",
       "        7.36011183e-15, 7.36011183e-15, 7.36011183e-15, 7.36011183e-15,\n",
       "        7.36011183e-15, 7.36011183e-15, 7.36011183e-15, 7.36011183e-15,\n",
       "        7.36011183e-15, 7.36011183e-15, 7.36011183e-15, 7.36011183e-15,\n",
       "        7.36011183e-15, 7.36011183e-15, 7.36011183e-15, 7.36011183e-15,\n",
       "        7.36011183e-15, 7.36011183e-15, 7.36011183e-15, 7.36011183e-15,\n",
       "        7.36011183e-15, 7.36011183e-15, 7.36011183e-15, 7.36011183e-15,\n",
       "        7.36011183e-15, 7.36011183e-15, 7.36011183e-15, 7.36011183e-15,\n",
       "        7.36011183e-15, 7.36011183e-15, 7.36011183e-15, 7.36011183e-15,\n",
       "        7.36011183e-15, 7.36011183e-15, 7.36011183e-15, 7.36011183e-15,\n",
       "        7.36011183e-15, 7.36011183e-15, 7.36011183e-15, 7.36011183e-15,\n",
       "        7.36011183e-15, 7.36011183e-15, 7.36011183e-15, 7.36011183e-15,\n",
       "        7.36011183e-15, 7.36011183e-15, 7.36011183e-15, 7.36011183e-15,\n",
       "        7.36011183e-15, 7.36011183e-15, 7.36011183e-15, 7.36011183e-15,\n",
       "        7.36011183e-15, 7.36011183e-15, 7.36011183e-15, 7.36011183e-15,\n",
       "        7.36011183e-15, 7.36011183e-15, 7.36011183e-15, 7.36011183e-15,\n",
       "        7.36011183e-15, 7.36011183e-15, 7.36011183e-15, 7.36011183e-15,\n",
       "        7.36011183e-15, 7.36011183e-15, 7.36011183e-15, 7.36011183e-15,\n",
       "        7.36011183e-15, 7.36011183e-15, 7.36011183e-15, 7.36011183e-15,\n",
       "        7.36011183e-15, 7.36011183e-15, 7.36011183e-15, 7.36011183e-15,\n",
       "        7.36011183e-15, 7.36011183e-15, 7.36011183e-15, 7.36011183e-15,\n",
       "        7.36011183e-15, 7.36011183e-15, 7.36011183e-15, 7.36011183e-15,\n",
       "        7.36011183e-15, 7.36011183e-15, 7.36011183e-15, 7.36011183e-15,\n",
       "        7.36011183e-15, 7.36011183e-15, 7.36011183e-15, 7.36011183e-15,\n",
       "        7.36011183e-15, 7.36011183e-15, 7.36011183e-15, 7.36011183e-15,\n",
       "        7.36011183e-15, 7.36011183e-15, 7.36011183e-15, 7.36011183e-15,\n",
       "        7.36011183e-15, 7.36011183e-15, 7.36011183e-15, 7.36011183e-15,\n",
       "        7.36011183e-15, 7.36011183e-15, 7.36011183e-15, 7.36011183e-15,\n",
       "        7.36011183e-15, 7.36011183e-15, 7.36011183e-15, 7.36011183e-15,\n",
       "        7.36011183e-15, 7.36011183e-15, 7.36011183e-15, 7.36011183e-15,\n",
       "        7.36011183e-15, 7.36011183e-15, 7.36011183e-15, 7.36011183e-15,\n",
       "        7.36011183e-15, 7.36011183e-15, 7.36011183e-15, 7.36011183e-15,\n",
       "        7.36011183e-15, 7.36011183e-15, 7.36011183e-15, 7.36011183e-15,\n",
       "        7.36011183e-15, 7.36011183e-15, 7.36011183e-15, 7.36011183e-15,\n",
       "        7.36011183e-15, 7.36011183e-15, 7.36011183e-15, 7.36011183e-15,\n",
       "        7.36011183e-15, 7.36011183e-15, 7.36011183e-15, 7.36011183e-15,\n",
       "        7.36011183e-15, 7.36011183e-15, 7.36011183e-15, 7.36011183e-15,\n",
       "        7.36011183e-15, 7.36011183e-15, 7.36011183e-15, 7.36011183e-15,\n",
       "        7.36011183e-15, 7.36011183e-15, 7.36011183e-15, 7.36011183e-15,\n",
       "        7.36011183e-15, 7.36011183e-15, 7.36011183e-15, 7.36011183e-15,\n",
       "        7.36011183e-15, 7.36011183e-15, 7.36011183e-15, 7.36011183e-15,\n",
       "        7.36011183e-15, 7.36011183e-15, 7.36011183e-15, 7.36011183e-15,\n",
       "        7.36011183e-15, 7.36011183e-15, 7.36011183e-15, 7.36011183e-15,\n",
       "        7.36011183e-15, 7.36011183e-15, 7.36011183e-15, 7.36011183e-15,\n",
       "        7.36011183e-15, 7.36011183e-15, 7.36011183e-15, 7.36011183e-15,\n",
       "        7.36011183e-15, 7.36011183e-15, 7.36011183e-15, 7.36011183e-15,\n",
       "        7.36011183e-15, 7.36011183e-15, 7.36011183e-15, 7.36011183e-15,\n",
       "        7.36011183e-15, 7.36011183e-15, 7.36011183e-15, 7.36011183e-15,\n",
       "        7.36011183e-15, 7.36011183e-15, 7.36011183e-15, 7.36011183e-15,\n",
       "        7.36011183e-15, 7.36011183e-15, 7.36011183e-15, 7.36011183e-15,\n",
       "        7.36011183e-15, 7.36011183e-15, 7.36011183e-15, 7.36011183e-15,\n",
       "        7.36011183e-15, 7.36011183e-15, 7.36011183e-15, 7.36011183e-15,\n",
       "        7.36011183e-15, 7.36011183e-15, 7.36011183e-15, 7.36011183e-15,\n",
       "        7.36011183e-15, 7.36011183e-15, 7.36011183e-15, 7.36011183e-15,\n",
       "        7.36011183e-15, 7.36011183e-15, 7.36011183e-15, 7.36011183e-15,\n",
       "        7.36011183e-15, 7.36011183e-15, 7.36011183e-15, 7.36011183e-15,\n",
       "        7.36011183e-15, 7.36011183e-15, 7.36011183e-15, 7.36011183e-15,\n",
       "        7.36011183e-15, 7.36011183e-15, 7.36011183e-15, 7.36011183e-15,\n",
       "        7.36011183e-15, 7.36011183e-15, 7.36011183e-15, 7.36011183e-15,\n",
       "        7.36011183e-15, 7.36011183e-15, 7.36011183e-15, 7.36011183e-15,\n",
       "        7.36011183e-15, 7.36011183e-15, 7.36011183e-15, 7.36011183e-15,\n",
       "        7.36011183e-15, 7.36011183e-15, 7.36011183e-15, 7.36011183e-15,\n",
       "        7.36011183e-15, 7.36011183e-15, 7.36011183e-15, 7.36011183e-15,\n",
       "        7.36011183e-15, 7.36011183e-15, 7.36011183e-15, 7.36011183e-15,\n",
       "        7.36011183e-15, 7.36011183e-15, 7.36011183e-15, 7.36011183e-15,\n",
       "        7.36011183e-15, 7.36011183e-15, 7.36011183e-15, 7.36011183e-15,\n",
       "        7.36011183e-15, 7.36011183e-15, 7.36011183e-15, 7.36011183e-15,\n",
       "        7.36011183e-15, 7.36011183e-15, 7.36011183e-15, 7.36011183e-15,\n",
       "        7.36011183e-15, 7.36011183e-15, 7.36011183e-15, 7.36011183e-15,\n",
       "        7.36011183e-15, 7.36011183e-15, 7.36011183e-15, 7.36011183e-15,\n",
       "        7.36011183e-15, 7.36011183e-15, 7.36011183e-15, 7.36011183e-15,\n",
       "        7.36011183e-15, 7.36011183e-15, 7.36011183e-15, 7.36011183e-15,\n",
       "        7.36011183e-15, 7.36011183e-15, 7.36011183e-15, 7.36011183e-15,\n",
       "        7.36011183e-15, 7.36011183e-15, 7.36011183e-15, 7.36011183e-15,\n",
       "        7.36011183e-15, 7.36011183e-15, 7.36011183e-15, 7.36011183e-15,\n",
       "        7.36011183e-15, 7.36011183e-15, 7.36011183e-15, 7.36011183e-15,\n",
       "        7.36011183e-15, 7.36011183e-15, 7.36011183e-15, 7.36011183e-15,\n",
       "        7.36011183e-15, 7.36011183e-15, 7.36011183e-15, 7.36011183e-15,\n",
       "        7.36011183e-15, 7.36011183e-15, 7.36011183e-15, 7.36011183e-15,\n",
       "        7.36011183e-15, 7.36011183e-15, 7.36011183e-15, 7.36011183e-15,\n",
       "        7.36011183e-15, 7.36011183e-15, 7.36011183e-15, 7.36011183e-15,\n",
       "        7.36011183e-15, 7.36011183e-15, 7.36011183e-15, 7.36011183e-15,\n",
       "        7.36011183e-15, 7.36011183e-15, 7.36011183e-15, 7.36011183e-15,\n",
       "        7.36011183e-15, 7.36011183e-15, 7.36011183e-15, 7.36011183e-15,\n",
       "        7.36011183e-15, 7.36011183e-15, 7.36011183e-15, 7.36011183e-15,\n",
       "        7.36011183e-15, 7.36011183e-15, 7.36011183e-15, 7.36011183e-15,\n",
       "        7.36011183e-15, 7.36011183e-15, 7.36011183e-15, 7.36011183e-15,\n",
       "        7.36011183e-15, 7.36011183e-15, 7.36011183e-15, 7.36011183e-15,\n",
       "        7.36011183e-15, 7.36011183e-15, 7.36011183e-15, 7.36011183e-15,\n",
       "        7.36011183e-15, 7.36011183e-15, 7.36011183e-15, 7.36011183e-15,\n",
       "        7.36011183e-15, 7.36011183e-15, 7.36011183e-15, 7.36011183e-15,\n",
       "        7.36011183e-15, 7.36011183e-15, 7.36011183e-15, 7.36011183e-15,\n",
       "        7.36011183e-15, 7.36011183e-15, 7.36011183e-15, 7.36011183e-15,\n",
       "        7.36011183e-15, 7.36011183e-15, 7.36011183e-15, 7.36011183e-15,\n",
       "        7.36011183e-15, 7.36011183e-15, 7.36011183e-15, 7.36011183e-15,\n",
       "        7.36011183e-15, 7.36011183e-15, 7.36011183e-15, 7.36011183e-15,\n",
       "        7.36011183e-15, 7.36011183e-15, 7.36011183e-15, 7.36011183e-15,\n",
       "        7.36011183e-15, 7.36011183e-15, 7.36011183e-15, 7.36011183e-15,\n",
       "        7.36011183e-15, 7.36011183e-15, 7.36011183e-15, 7.36011183e-15,\n",
       "        7.36011183e-15, 7.36011183e-15, 7.36011183e-15, 7.36011183e-15,\n",
       "        7.36011183e-15, 7.36011183e-15, 7.36011183e-15, 7.36011183e-15,\n",
       "        7.36011183e-15, 7.36011183e-15, 7.36011183e-15, 7.36011183e-15,\n",
       "        7.36011183e-15, 7.36011183e-15, 7.36011183e-15, 7.36011183e-15,\n",
       "        7.36011183e-15, 7.36011183e-15, 7.36011183e-15, 7.36011183e-15,\n",
       "        7.36011183e-15, 7.36011183e-15, 7.36011183e-15, 7.36011183e-15,\n",
       "        7.36011183e-15, 7.36011183e-15, 7.36011183e-15, 7.36011183e-15,\n",
       "        7.36011183e-15, 7.36011183e-15, 7.36011183e-15, 7.36011183e-15,\n",
       "        7.36011183e-15, 7.36011183e-15, 7.36011183e-15, 7.36011183e-15,\n",
       "        7.36011183e-15, 7.36011183e-15, 7.36011183e-15, 7.36011183e-15,\n",
       "        7.36011183e-15, 7.36011183e-15, 7.36011183e-15, 7.36011183e-15,\n",
       "        7.36011183e-15, 7.36011183e-15, 7.36011183e-15, 7.36011183e-15,\n",
       "        7.36011183e-15, 7.36011183e-15, 7.36011183e-15, 7.36011183e-15,\n",
       "        7.36011183e-15, 7.36011183e-15, 7.36011183e-15, 7.36011183e-15,\n",
       "        7.36011183e-15, 7.36011183e-15, 7.36011183e-15, 7.36011183e-15,\n",
       "        7.36011183e-15, 7.36011183e-15, 7.36011183e-15, 7.36011183e-15,\n",
       "        7.36011183e-15, 7.36011183e-15, 7.36011183e-15, 7.36011183e-15,\n",
       "        7.36011183e-15, 7.36011183e-15, 7.36011183e-15, 7.36011183e-15,\n",
       "        7.36011183e-15, 7.36011183e-15, 7.36011183e-15, 7.36011183e-15,\n",
       "        7.36011183e-15, 7.36011183e-15, 7.36011183e-15, 7.36011183e-15,\n",
       "        7.36011183e-15, 7.36011183e-15, 7.36011183e-15, 7.36011183e-15,\n",
       "        7.36011183e-15, 7.36011183e-15, 7.36011183e-15, 7.36011183e-15,\n",
       "        7.36011183e-15, 7.36011183e-15, 7.36011183e-15, 7.36011183e-15,\n",
       "        7.36011183e-15, 7.36011183e-15, 7.36011183e-15, 7.36011183e-15,\n",
       "        7.36011183e-15, 7.36011183e-15, 7.36011183e-15, 7.36011183e-15,\n",
       "        7.36011183e-15, 7.36011183e-15, 7.36011183e-15, 7.36011183e-15,\n",
       "        7.36011183e-15, 7.36011183e-15, 7.36011183e-15, 7.36011183e-15,\n",
       "        7.36011183e-15, 7.36011183e-15, 7.36011183e-15, 7.36011183e-15,\n",
       "        7.36011183e-15, 7.36011183e-15, 7.36011183e-15, 7.36011183e-15,\n",
       "        7.36011183e-15, 7.36011183e-15, 7.36011183e-15, 7.36011183e-15,\n",
       "        7.36011183e-15, 7.36011183e-15, 7.36011183e-15, 7.36011183e-15,\n",
       "        7.36011183e-15, 7.36011183e-15, 7.36011183e-15, 7.36011183e-15,\n",
       "        7.36011183e-15, 7.36011183e-15, 7.36011183e-15, 7.36011183e-15,\n",
       "        7.36011183e-15, 7.36011183e-15, 7.36011183e-15, 7.36011183e-15,\n",
       "        7.36011183e-15, 7.36011183e-15, 7.36011183e-15, 7.36011183e-15,\n",
       "        7.36011183e-15, 7.36011183e-15, 7.36011183e-15, 7.36011183e-15,\n",
       "        7.36011183e-15, 7.36011183e-15, 7.36011183e-15, 7.36011183e-15,\n",
       "        7.36011183e-15, 7.36011183e-15, 7.36011183e-15, 7.36011183e-15,\n",
       "        7.36011183e-15, 7.36011183e-15, 7.36011183e-15, 7.36011183e-15,\n",
       "        7.36011183e-15, 7.36011183e-15, 7.36011183e-15, 7.36011183e-15,\n",
       "        7.36011183e-15, 7.36011183e-15, 7.36011183e-15, 7.36011183e-15,\n",
       "        7.36011183e-15, 7.36011183e-15, 7.36011183e-15, 7.36011183e-15,\n",
       "        7.36011183e-15, 7.36011183e-15, 7.36011183e-15, 7.36011183e-15,\n",
       "        7.36011183e-15, 7.36011183e-15, 7.36011183e-15, 7.36011183e-15,\n",
       "        7.36011183e-15, 7.36011183e-15, 7.36011183e-15, 7.36011183e-15,\n",
       "        7.36011183e-15, 7.36011183e-15, 7.36011183e-15, 7.36011183e-15,\n",
       "        7.36011183e-15, 7.36011183e-15, 7.36011183e-15, 7.36011183e-15,\n",
       "        7.36011183e-15, 7.36011183e-15, 7.36011183e-15, 7.36011183e-15,\n",
       "        7.36011183e-15, 7.36011183e-15, 7.36011183e-15, 7.36011183e-15,\n",
       "        7.36011183e-15, 7.36011183e-15, 7.36011183e-15, 7.36011183e-15,\n",
       "        7.36011183e-15, 7.36011183e-15, 7.36011183e-15, 7.36011183e-15,\n",
       "        7.36011183e-15, 7.36011183e-15, 7.36011183e-15, 7.36011183e-15,\n",
       "        7.36011183e-15, 7.36011183e-15, 7.36011183e-15, 7.36011183e-15,\n",
       "        7.36011183e-15, 7.36011183e-15, 7.36011183e-15, 7.36011183e-15,\n",
       "        7.36011183e-15, 7.36011183e-15, 7.36011183e-15, 7.36011183e-15,\n",
       "        7.36011183e-15, 7.36011183e-15, 7.36011183e-15, 7.36011183e-15,\n",
       "        7.36011183e-15, 7.36011183e-15, 7.36011183e-15, 7.36011183e-15,\n",
       "        7.36011183e-15, 7.36011183e-15, 7.36011183e-15, 7.36011183e-15,\n",
       "        7.36011183e-15, 7.36011183e-15, 7.36011183e-15, 7.36011183e-15,\n",
       "        7.36011183e-15, 7.36011183e-15, 7.36011183e-15, 7.36011183e-15,\n",
       "        7.36011183e-15, 7.36011183e-15, 7.36011183e-15, 7.36011183e-15,\n",
       "        7.36011183e-15, 7.36011183e-15, 7.36011183e-15, 7.36011183e-15,\n",
       "        7.36011183e-15, 7.36011183e-15, 7.36011183e-15, 7.36011183e-15,\n",
       "        7.36011183e-15, 7.36011183e-15, 7.36011183e-15, 7.36011183e-15,\n",
       "        7.36011183e-15, 7.36011183e-15, 7.36011183e-15, 7.36011183e-15,\n",
       "        7.36011183e-15, 7.36011183e-15, 7.36011183e-15, 7.36011183e-15,\n",
       "        7.36011183e-15, 7.36011183e-15, 7.36011183e-15, 7.36011183e-15,\n",
       "        7.36011183e-15, 7.36011183e-15, 7.36011183e-15, 7.36011183e-15,\n",
       "        7.36011183e-15, 7.36011183e-15, 7.36011183e-15, 7.36011183e-15,\n",
       "        7.36011183e-15, 7.36011183e-15, 7.36011183e-15, 7.36011183e-15,\n",
       "        7.36011183e-15, 7.36011183e-15, 7.36011183e-15, 7.36011183e-15,\n",
       "        7.36011183e-15, 7.36011183e-15, 7.36011183e-15, 7.36011183e-15,\n",
       "        7.36011183e-15, 7.36011183e-15, 7.36011183e-15, 7.36011183e-15,\n",
       "        7.36011183e-15, 7.36011183e-15, 7.36011183e-15, 7.36011183e-15,\n",
       "        7.36011183e-15, 7.36011183e-15, 7.36011183e-15, 7.36011183e-15,\n",
       "        7.36011183e-15, 7.36011183e-15, 7.36011183e-15, 7.36011183e-15,\n",
       "        7.36011183e-15, 7.36011183e-15, 7.36011183e-15, 7.36011183e-15,\n",
       "        7.36011183e-15, 7.36011183e-15, 7.36011183e-15, 7.36011183e-15,\n",
       "        7.36011183e-15, 7.36011183e-15, 7.36011183e-15, 7.36011183e-15,\n",
       "        7.36011183e-15, 7.36011183e-15, 7.36011183e-15, 7.36011183e-15,\n",
       "        7.36011183e-15, 7.36011183e-15, 7.36011183e-15, 7.36011183e-15,\n",
       "        7.36011183e-15, 7.36011183e-15, 7.36011183e-15, 7.36011183e-15,\n",
       "        7.36011183e-15, 7.36011183e-15, 7.36011183e-15, 7.36011183e-15,\n",
       "        7.36011183e-15, 7.36011183e-15, 7.36011183e-15, 7.36011183e-15,\n",
       "        7.36011183e-15, 7.36011183e-15, 7.36011183e-15, 7.36011183e-15,\n",
       "        7.36011183e-15, 7.36011183e-15, 7.36011183e-15, 7.36011183e-15,\n",
       "        7.36011183e-15, 7.36011183e-15, 7.36011183e-15, 7.36011183e-15,\n",
       "        7.36011183e-15, 7.36011183e-15, 7.36011183e-15, 7.36011183e-15,\n",
       "        7.36011183e-15, 7.36011183e-15, 7.36011183e-15, 7.36011183e-15,\n",
       "        7.36011183e-15, 7.36011183e-15, 7.36011183e-15, 7.36011183e-15,\n",
       "        7.36011183e-15, 7.36011183e-15, 7.36011183e-15, 7.36011183e-15,\n",
       "        7.36011183e-15, 7.36011183e-15, 7.36011183e-15, 7.36011183e-15,\n",
       "        7.36011183e-15, 7.36011183e-15, 7.36011183e-15, 7.36011183e-15,\n",
       "        7.36011183e-15, 7.36011183e-15, 7.36011183e-15, 7.36011183e-15,\n",
       "        7.36011183e-15, 7.36011183e-15, 7.36011183e-15, 7.36011183e-15,\n",
       "        7.36011183e-15, 7.36011183e-15, 7.36011183e-15, 7.36011183e-15,\n",
       "        7.36011183e-15, 7.36011183e-15, 7.36011183e-15, 7.36011183e-15,\n",
       "        7.36011183e-15, 7.36011183e-15, 7.36011183e-15, 7.36011183e-15,\n",
       "        7.36011183e-15, 7.36011183e-15, 7.36011183e-15, 7.36011183e-15,\n",
       "        7.36011183e-15, 7.36011183e-15, 7.36011183e-15, 7.36011183e-15,\n",
       "        7.36011183e-15, 7.36011183e-15, 7.36011183e-15, 7.36011183e-15,\n",
       "        7.36011183e-15, 7.36011183e-15, 7.36011183e-15, 7.36011183e-15,\n",
       "        7.36011183e-15, 7.36011183e-15, 7.36011183e-15, 7.36011183e-15,\n",
       "        7.36011183e-15, 7.36011183e-15, 7.36011183e-15, 7.36011183e-15,\n",
       "        7.36011183e-15, 7.36011183e-15, 7.36011183e-15, 7.36011183e-15,\n",
       "        7.36011183e-15, 7.36011183e-15, 7.36011183e-15, 7.36011183e-15,\n",
       "        7.36011183e-15, 7.36011183e-15, 7.36011183e-15, 7.36011183e-15,\n",
       "        7.36011183e-15, 7.36011183e-15, 7.36011183e-15, 7.36011183e-15,\n",
       "        7.36011183e-15, 7.36011183e-15, 7.36011183e-15, 7.36011183e-15,\n",
       "        7.36011183e-15, 7.36011183e-15, 7.36011183e-15, 7.36011183e-15,\n",
       "        7.36011183e-15, 7.36011183e-15, 7.36011183e-15, 7.36011183e-15,\n",
       "        7.36011183e-15, 7.36011183e-15, 7.36011183e-15, 7.36011183e-15,\n",
       "        7.36011183e-15, 7.36011183e-15, 7.36011183e-15, 7.36011183e-15,\n",
       "        7.36011183e-15, 7.36011183e-15, 7.36011183e-15, 7.36011183e-15,\n",
       "        7.36011183e-15, 7.36011183e-15, 7.36011183e-15, 7.36011183e-15,\n",
       "        7.36011183e-15, 7.36011183e-15, 7.36011183e-15, 7.36011183e-15,\n",
       "        7.36011183e-15, 7.36011183e-15, 7.36011183e-15, 7.36011183e-15,\n",
       "        7.36011183e-15, 7.36011183e-15, 7.36011183e-15, 7.36011183e-15,\n",
       "        7.36011183e-15, 7.36011183e-15, 7.36011183e-15, 7.36011183e-15,\n",
       "        7.36011183e-15, 7.36011183e-15, 7.36011183e-15, 7.36011183e-15,\n",
       "        7.36011183e-15, 7.36011183e-15, 7.36011183e-15, 7.36011183e-15,\n",
       "        7.36011183e-15, 7.36011183e-15, 7.36011183e-15, 6.40275881e-15,\n",
       "        5.02034094e-15, 4.61883815e-15, 4.61239756e-15, 4.58885634e-15,\n",
       "        4.54849770e-15, 3.57636451e-15, 2.20164713e-15, 6.90832851e-16]),\n",
       " array([[-0.0045679 , -0.00466347, -0.00475998, ..., -0.00475998,\n",
       "         -0.00466347, -0.0045679 ],\n",
       "        [ 0.00913211,  0.00931955,  0.00950869, ..., -0.00950869,\n",
       "         -0.00931955, -0.00913211],\n",
       "        [-0.01368891, -0.01396079, -0.01423471, ..., -0.01423471,\n",
       "         -0.01396079, -0.01368891],\n",
       "        ...,\n",
       "        [ 0.        , -0.01094787, -0.00156516, ...,  0.0052221 ,\n",
       "         -0.01421172,  0.03075932],\n",
       "        [ 0.        , -0.01310536, -0.00312314, ..., -0.0122771 ,\n",
       "         -0.00759401, -0.04384808],\n",
       "        [ 0.        , -0.00980715, -0.00233814, ...,  0.02654209,\n",
       "         -0.00840798, -0.01382342]]))"
      ]
     },
     "execution_count": 105,
     "metadata": {},
     "output_type": "execute_result"
    }
   ],
   "source": [
    "np.linalg.svd(cov3)"
   ]
  },
  {
   "cell_type": "code",
   "execution_count": 81,
   "metadata": {},
   "outputs": [
    {
     "data": {
      "text/plain": [
       "(43, 1000)"
      ]
     },
     "execution_count": 81,
     "metadata": {},
     "output_type": "execute_result"
    }
   ],
   "source": [
    "(s[:arg, None] * v[:43, :]).shape"
   ]
  },
  {
   "cell_type": "code",
   "execution_count": 53,
   "metadata": {},
   "outputs": [
    {
     "data": {
      "text/plain": [
       "-0.0"
      ]
     },
     "execution_count": 53,
     "metadata": {},
     "output_type": "execute_result"
    }
   ],
   "source": [
    "np.linalg.det(cov2)"
   ]
  },
  {
   "cell_type": "code",
   "execution_count": 34,
   "metadata": {},
   "outputs": [],
   "source": [
    "from processes.utils import unband_matrix"
   ]
  },
  {
   "cell_type": "code",
   "execution_count": 24,
   "metadata": {},
   "outputs": [],
   "source": [
    "ch = np.random.randn(2000, 2000)\n",
    "rand = np.random.randn(2000, 20, 20)\n",
    "aux1 = ch @ rand[:, :, 0]\n",
    "aux2 = np.einsum('st,t...->s...', ch,  rand)"
   ]
  },
  {
   "cell_type": "code",
   "execution_count": 25,
   "metadata": {},
   "outputs": [
    {
     "data": {
      "text/plain": [
       "True"
      ]
     },
     "execution_count": 25,
     "metadata": {},
     "output_type": "execute_result"
    }
   ],
   "source": [
    "np.allclose(aux1, aux2[:, :, 0])"
   ]
  },
  {
   "cell_type": "code",
   "execution_count": 27,
   "metadata": {},
   "outputs": [
    {
     "data": {
      "text/plain": [
       "[<matplotlib.lines.Line2D at 0x7fd9b0cf1f98>]"
      ]
     },
     "execution_count": 27,
     "metadata": {},
     "output_type": "execute_result"
    },
    {
     "data": {
      "image/png": "[encoded data removed]",
      "text/plain": [
       "<Figure size 432x288 with 1 Axes>"
      ]
     },
     "metadata": {
      "needs_background": "light"
     },
     "output_type": "display_data"
    }
   ],
   "source": [
    "def double_exp(t, A, tr, td, t0):\n",
    "    return A * tr * td / (td - tr) * (np.exp(-(t - t0) / td) - np.exp(-(t - t0) / tr))\n",
    "\n",
    "n_trials = 5000\n",
    "t = np.arange(0, 500, 1)\n",
    "\n",
    "b, A, tr, td, t0 = -4.5, 0.2, 5, 50, 12\n",
    "t0 = 2\n",
    "\n",
    "# eta = KernelFun(double_exp, basis_kwargs=dict(A=np.array([A])), shared_kwargs=dict(tr=tr, td=td, t0=t0), \n",
    "#             coefs=np.array([1]), support=[0, tr * td / (td - tr) + td * 7])\n",
    "eta = KernelFun(lambda t, A, td: A * np.exp(-t / td), basis_kwargs=dict(A=np.array([1])), \n",
    "                shared_kwargs=dict(td=td), \n",
    "              coefs=np.array([1]), support=[0, td * 7])\n",
    "rp = RenewalProcess(b, eta)\n",
    "\n",
    "u, r, mask_spikes = rp.sample(t, shape=(n_trials,))\n",
    "n_spikes = np.sum(mask_spikes, 0)\n",
    "raw_autocorr = np.mean(raw_autocorrelation(mask_spikes, biased=False), 1)\n",
    "\n",
    "lam = np.mean(n_spikes) / (len(t) * 1)\n",
    "\n",
    "fig, ax1 = plt.subplots()\n",
    "ax1.plot(raw_autocorr[1:350])"
   ]
  },
  {
   "cell_type": "code",
   "execution_count": 28,
   "metadata": {},
   "outputs": [
    {
     "ename": "LinAlgError",
     "evalue": "3-th leading minor not positive definite",
     "output_type": "error",
     "traceback": [
      "\u001b[0;31m---------------------------------------------------------------------------\u001b[0m",
      "\u001b[0;31mLinAlgError\u001b[0m                               Traceback (most recent call last)",
      "\u001b[0;32m<ipython-input-28-91d0947b825b>\u001b[0m in \u001b[0;36m<module>\u001b[0;34m\u001b[0m\n\u001b[1;32m      1\u001b[0m \u001b[0mdg\u001b[0m \u001b[0;34m=\u001b[0m \u001b[0mDichotomizedGaussian\u001b[0m\u001b[0;34m(\u001b[0m\u001b[0mlam\u001b[0m\u001b[0;34m=\u001b[0m\u001b[0;36m10\u001b[0m\u001b[0;34m,\u001b[0m \u001b[0mraw_autocorrelation\u001b[0m\u001b[0;34m=\u001b[0m\u001b[0mraw_autocorr\u001b[0m\u001b[0;34m)\u001b[0m\u001b[0;34m\u001b[0m\u001b[0;34m\u001b[0m\u001b[0m\n\u001b[0;32m----> 2\u001b[0;31m \u001b[0mdg\u001b[0m\u001b[0;34m.\u001b[0m\u001b[0mset_t\u001b[0m\u001b[0;34m(\u001b[0m\u001b[0mt\u001b[0m\u001b[0;34m)\u001b[0m\u001b[0;34m\u001b[0m\u001b[0;34m\u001b[0m\u001b[0m\n\u001b[0m",
      "\u001b[0;32m~/python/stochastic-processes/processes/dichotomized_gaussian.py\u001b[0m in \u001b[0;36mset_t\u001b[0;34m(self, t, drho)\u001b[0m\n\u001b[1;32m     39\u001b[0m \u001b[0;34m\u001b[0m\u001b[0m\n\u001b[1;32m     40\u001b[0m         \u001b[0mself\u001b[0m\u001b[0;34m.\u001b[0m\u001b[0mgp\u001b[0m \u001b[0;34m=\u001b[0m \u001b[0mGaussianProcess\u001b[0m\u001b[0;34m(\u001b[0m\u001b[0mmu\u001b[0m\u001b[0;34m=\u001b[0m\u001b[0mmu\u001b[0m\u001b[0;34m,\u001b[0m \u001b[0mautocov\u001b[0m\u001b[0;34m=\u001b[0m\u001b[0mautocov\u001b[0m\u001b[0;34m)\u001b[0m\u001b[0;34m\u001b[0m\u001b[0;34m\u001b[0m\u001b[0m\n\u001b[0;32m---> 41\u001b[0;31m         \u001b[0mself\u001b[0m\u001b[0;34m.\u001b[0m\u001b[0mgp\u001b[0m\u001b[0;34m.\u001b[0m\u001b[0mset_t\u001b[0m\u001b[0;34m(\u001b[0m\u001b[0mt\u001b[0m\u001b[0;34m,\u001b[0m \u001b[0minv_cov\u001b[0m\u001b[0;34m=\u001b[0m\u001b[0;32mFalse\u001b[0m\u001b[0;34m,\u001b[0m \u001b[0mcholesky\u001b[0m\u001b[0;34m=\u001b[0m\u001b[0;32mTrue\u001b[0m\u001b[0;34m)\u001b[0m\u001b[0;34m\u001b[0m\u001b[0;34m\u001b[0m\u001b[0m\n\u001b[0m\u001b[1;32m     42\u001b[0m \u001b[0;34m\u001b[0m\u001b[0m\n\u001b[1;32m     43\u001b[0m         \u001b[0;32mreturn\u001b[0m \u001b[0mself\u001b[0m\u001b[0;34m\u001b[0m\u001b[0;34m\u001b[0m\u001b[0m\n",
      "\u001b[0;32m~/python/stochastic-processes/processes/gaussian_process.py\u001b[0m in \u001b[0;36mset_t\u001b[0;34m(self, t, inv_cov, cholesky)\u001b[0m\n\u001b[1;32m     31\u001b[0m \u001b[0;34m\u001b[0m\u001b[0m\n\u001b[1;32m     32\u001b[0m         \u001b[0;32mif\u001b[0m \u001b[0mcholesky\u001b[0m\u001b[0;34m:\u001b[0m\u001b[0;34m\u001b[0m\u001b[0;34m\u001b[0m\u001b[0m\n\u001b[0;32m---> 33\u001b[0;31m             \u001b[0mch\u001b[0m \u001b[0;34m=\u001b[0m \u001b[0mcholesky_banded\u001b[0m\u001b[0;34m(\u001b[0m\u001b[0mcov\u001b[0m\u001b[0;34m,\u001b[0m \u001b[0mlower\u001b[0m\u001b[0;34m=\u001b[0m\u001b[0;32mTrue\u001b[0m\u001b[0;34m)\u001b[0m\u001b[0;34m\u001b[0m\u001b[0;34m\u001b[0m\u001b[0m\n\u001b[0m\u001b[1;32m     34\u001b[0m             \u001b[0mself\u001b[0m\u001b[0;34m.\u001b[0m\u001b[0mch_lower\u001b[0m \u001b[0;34m=\u001b[0m \u001b[0munband_matrix\u001b[0m\u001b[0;34m(\u001b[0m\u001b[0mch\u001b[0m\u001b[0;34m,\u001b[0m \u001b[0msymmetric\u001b[0m\u001b[0;34m=\u001b[0m\u001b[0;32mFalse\u001b[0m\u001b[0;34m,\u001b[0m \u001b[0mlower\u001b[0m\u001b[0;34m=\u001b[0m\u001b[0;32mTrue\u001b[0m\u001b[0;34m)\u001b[0m\u001b[0;34m\u001b[0m\u001b[0;34m\u001b[0m\u001b[0m\n\u001b[1;32m     35\u001b[0m \u001b[0;34m\u001b[0m\u001b[0m\n",
      "\u001b[0;32m~/.local/lib/python3.6/site-packages/scipy/linalg/decomp_cholesky.py\u001b[0m in \u001b[0;36mcholesky_banded\u001b[0;34m(ab, overwrite_ab, lower, check_finite)\u001b[0m\n\u001b[1;32m    280\u001b[0m     \u001b[0mc\u001b[0m\u001b[0;34m,\u001b[0m \u001b[0minfo\u001b[0m \u001b[0;34m=\u001b[0m \u001b[0mpbtrf\u001b[0m\u001b[0;34m(\u001b[0m\u001b[0mab\u001b[0m\u001b[0;34m,\u001b[0m \u001b[0mlower\u001b[0m\u001b[0;34m=\u001b[0m\u001b[0mlower\u001b[0m\u001b[0;34m,\u001b[0m \u001b[0moverwrite_ab\u001b[0m\u001b[0;34m=\u001b[0m\u001b[0moverwrite_ab\u001b[0m\u001b[0;34m)\u001b[0m\u001b[0;34m\u001b[0m\u001b[0;34m\u001b[0m\u001b[0m\n\u001b[1;32m    281\u001b[0m     \u001b[0;32mif\u001b[0m \u001b[0minfo\u001b[0m \u001b[0;34m>\u001b[0m \u001b[0;36m0\u001b[0m\u001b[0;34m:\u001b[0m\u001b[0;34m\u001b[0m\u001b[0;34m\u001b[0m\u001b[0m\n\u001b[0;32m--> 282\u001b[0;31m         \u001b[0;32mraise\u001b[0m \u001b[0mLinAlgError\u001b[0m\u001b[0;34m(\u001b[0m\u001b[0;34m\"%d-th leading minor not positive definite\"\u001b[0m \u001b[0;34m%\u001b[0m \u001b[0minfo\u001b[0m\u001b[0;34m)\u001b[0m\u001b[0;34m\u001b[0m\u001b[0;34m\u001b[0m\u001b[0m\n\u001b[0m\u001b[1;32m    283\u001b[0m     \u001b[0;32mif\u001b[0m \u001b[0minfo\u001b[0m \u001b[0;34m<\u001b[0m \u001b[0;36m0\u001b[0m\u001b[0;34m:\u001b[0m\u001b[0;34m\u001b[0m\u001b[0;34m\u001b[0m\u001b[0m\n\u001b[1;32m    284\u001b[0m         raise ValueError('illegal value in %d-th argument of internal pbtrf'\n",
      "\u001b[0;31mLinAlgError\u001b[0m: 3-th leading minor not positive definite"
     ]
    }
   ],
   "source": []
  },
  {
   "cell_type": "code",
   "execution_count": 33,
   "metadata": {},
   "outputs": [
    {
     "name": "stdout",
     "output_type": "stream",
     "text": [
      "small error\n"
     ]
    },
    {
     "data": {
      "text/plain": [
       "<processes.dichotomized_gaussian.DichotomizedGaussian at 0x7fd9b0a5cef0>"
      ]
     },
     "execution_count": 33,
     "metadata": {},
     "output_type": "execute_result"
    }
   ],
   "source": [
    "from scipy.special import erfinv\n",
    "from scipy.stats import multivariate_normal\n",
    "from processes.gaussian_process import GaussianProcess\n",
    "\n",
    "from sptr.sptr import SpikeTrain\n",
    "\n",
    "cov0 = 1e0\n",
    "p = np.mean(n_spikes) / len(t)\n",
    "mu = np.sqrt(2 * cov0) * erfinv(2 * p - 1)\n",
    "drho = 1e-3\n",
    "rho_gauss = np.arange(-1 + drho, 1, drho)\n",
    "\n",
    "maxpts = 1e6 * 2\n",
    "\n",
    "rho_dg = []\n",
    "for _rho_gauss in rho_gauss:\n",
    "    cov_gauss = np.array([[cov0, cov0 * _rho_gauss], [cov0 * _rho_gauss, cov0]])\n",
    "    rho_dg.append(1 + multivariate_normal.cdf([0, 0], mean=np.ones(2) * mu, cov=cov_gauss, maxpts=maxpts) - \\\n",
    "                  2 * multivariate_normal.cdf([0], mean=np.ones(1) * mu, cov=np.array([cov0]), maxpts=maxpts))\n",
    "rho_dg = np.array(rho_dg)\n",
    "\n",
    "error_rho = np.abs(raw_autocor[1:250, None] - rho_dg[None, :])\n",
    "argmin = np.argmin(error_rho, 1)\n",
    "autocov = cov0 * rho_gauss[argmin]\n",
    "raw_autocorr_dg = rho_dg[argmin]\n",
    "error_rho = np.abs(raw_autocor[1:250] - raw_autocorr_dg)\n",
    "if np.all(error_rho / np.abs(raw_autocor[1:250]) < 1e-1):\n",
    "    print('small error')\n",
    "autocov[0] = cov0\n",
    "\n",
    "dg = DichotomizedGaussian(lam=p / dt, raw_autocorrelation=raw_autocorr)\n",
    "dg.set_t(t)"
   ]
  },
  {
   "cell_type": "code",
   "execution_count": 34,
   "metadata": {},
   "outputs": [
    {
     "data": {
      "text/plain": [
       "[<matplotlib.lines.Line2D at 0x7fd9b0a15eb8>]"
      ]
     },
     "execution_count": 34,
     "metadata": {},
     "output_type": "execute_result"
    },
    {
     "data": {
      "image/png": "[encoded data removed]",
      "text/plain": [
       "<Figure size 432x288 with 2 Axes>"
      ]
     },
     "metadata": {
      "needs_background": "light"
     },
     "output_type": "display_data"
    }
   ],
   "source": [
    "fig, (ax1, ax2) = plt.subplots(ncols=2)\n",
    "ax1.plot(rho_dg)\n",
    "\n",
    "plt.plot(autocov)\n",
    "plt.plot(dg.gp.autocov)\n",
    "# plt.plot(error_rho)\n",
    "# plt.plot(raw_autocor[1:250])\n",
    "# plt.plot(raw_autocorr_dg)"
   ]
  },
  {
   "cell_type": "code",
   "execution_count": 20,
   "metadata": {},
   "outputs": [
    {
     "name": "stdout",
     "output_type": "stream",
     "text": [
      "-2.1064535141647944 0.999714163255708 -2.110510589692119 1.0\n",
      "8.7036 8.7358\n"
     ]
    },
    {
     "data": {
      "text/plain": [
       "[<matplotlib.lines.Line2D at 0x7fd9b0d60320>]"
      ]
     },
     "execution_count": 20,
     "metadata": {},
     "output_type": "execute_result"
    },
    {
     "data": {
      "image/png": "[encoded data removed]",
      "text/plain": [
       "<Figure size 1296x288 with 2 Axes>"
      ]
     },
     "metadata": {
      "needs_background": "light"
     },
     "output_type": "display_data"
    },
    {
     "data": {
      "image/png": "[encoded data removed]",
      "text/plain": [
       "<Figure size 576x288 with 2 Axes>"
      ]
     },
     "metadata": {
      "needs_background": "light"
     },
     "output_type": "display_data"
    }
   ],
   "source": [
    "# autocov = 4e0 * np.exp(-np.arange(0, len(autocov), 1) / 20)\n",
    "gp = GaussianProcess(mu=mu, autocov=autocov)\n",
    "gp.set_t(t)\n",
    "\n",
    "u = gp.sample(shape=(5000,))\n",
    "x = u > 0\n",
    "gp_autocorr = np.mean(raw_autocorrelation(u, biased=False), 1) - mu**2\n",
    "raw_autocor2 = np.mean(raw_autocorrelation(x, biased=False), 1) \n",
    "\n",
    "print(np.mean(u), np.mean((u - mu)**2), mu, cov0)\n",
    "print(np.mean(np.sum(mask_spikes, 0)),  np.mean(np.sum(x, 0)))\n",
    "\n",
    "fig, (ax1, ax2) = plt.subplots(figsize=(18, 4), nrows=2)\n",
    "ax1.plot(u[:, 0])\n",
    "SpikeTrain(t, x[:, :1]).plot(ax=ax2, ms=0.7)\n",
    "\n",
    "fig, (ax1, ax2) = plt.subplots(figsize=(8, 4), ncols=2)\n",
    "ax1.plot(raw_autocor[1:350])\n",
    "ax1.plot(raw_autocor2[1:350])\n",
    "# ax1.set_ylim(-1e-5, 4e-4)\n",
    "# ax1.set_ylim(3e-4, 1e-3)\n",
    "ax2.plot(autocov[1:250])\n",
    "ax2.plot(gp_autocorr[1:250])"
   ]
  },
  {
   "cell_type": "code",
   "execution_count": 257,
   "metadata": {},
   "outputs": [
    {
     "data": {
      "text/plain": [
       "(0.017821999999999998, 0.0177516)"
      ]
     },
     "execution_count": 257,
     "metadata": {},
     "output_type": "execute_result"
    }
   ],
   "source": [
    "raw_autocor[0], raw_autocor2[0]"
   ]
  },
  {
   "cell_type": "code",
   "execution_count": 48,
   "metadata": {},
   "outputs": [],
   "source": [
    "import numpy as np\n",
    "from scipy.special import erfinv\n",
    "\n",
    "# from .utils import get_dt\n",
    "\n",
    "def get_dt(t):\n",
    "    arg_dt = 20 if len(t) >= 20 else len(t)\n",
    "    dt = np.mean(np.diff(t[:arg_dt]))\n",
    "    return dt\n",
    "\n",
    "class DichotomizedGaussian:\n",
    "    \"\"\"Sample stationary spike trains using the Dichotomized Gaussian (Macke et al 2009).\n",
    "\n",
    "    Attributes:\n",
    "        lam (str): Baseline firing rate\n",
    "        attr2 (:obj:`int`, optional): Description of `attr2`.\n",
    "\n",
    "    \"\"\"\n",
    "    def __init__(self, lam=0, raw_autocorrelation=1, drho=1e-3):\n",
    "        self.lam = lam\n",
    "        self.raw_autocorrelation = raw_autocorrelation\n",
    "        \n",
    "        self.mu = np.sqrt(2) * erfinv(2 * p - 1)\n",
    "        \n",
    "        rho_gauss = np.arange(-1 + drho, 1, drho)\n",
    "\n",
    "        rho_dg = []\n",
    "        for _rho_gauss in rho_gauss:\n",
    "            cov_gauss = np.array([[1, _rho_gauss], [_rho_gauss, 1]])\n",
    "            rho_dg.append(1 + multivariate_normal.cdf([0, 0], mean=np.ones(2) * mu, cov=cov_gauss) - \\\n",
    "                          2 * multivariate_normal.cdf([0], mean=np.ones(1) * mu, cov=np.array([1])))\n",
    "        rho_dg = np.array(rho_dg)\n",
    "        \n",
    "        self.autocov = rho_gauss[np.argmin((raw_autocorrelation - rho_dg[None, :])**2, 1)]\n",
    "        self.autocov[0] = 1\n",
    "        \n",
    "        self.gp = GaussianProcess(mu=self.mu, autocov=self.autocov)\n",
    "\n",
    "    def set_t(t)\n",
    "#         self.t = t\n",
    "        self.gp.set_t(t, inv_cov=False, cholesky=True)\n",
    "        return self\n",
    "    \n",
    "    def sample(self, t=None, shape=(1,), seed=None):\n",
    "        gp_samples = self.gp.sample(shape=shape, seed=seed)\n",
    "        mask_spikes = gp_samples > 0\n",
    "        return mask_spikes\n",
    "    \n",
    "    def sample2(self, t, shape=(1,), seed=None):\n",
    "        \"\"\"Sample spike trains.\n",
    "\n",
    "        Args:\n",
    "            t: 1d-array of time points\n",
    "            shape: Output is a mask x with x.shape = (len(t),) + shape\n",
    "            seed: sets numpy seed\n",
    "\n",
    "        Returns:\n",
    "            Boolean mask of spikes\n",
    "\n",
    "        \"\"\"\n",
    "        np.random.seed(seed)\n",
    "        \n",
    "        dt = get_dt(t)\n",
    "        \n",
    "        p = self.lam * dt\n",
    "        mu = np.sqrt(2) * erfinv(2 * p - 1)\n",
    "        print(p, mu)\n",
    "#         var = p * (1 - p)\n",
    "        var = 1\n",
    "        \n",
    "        gaussian_samples = np.random.multivariate_normal(np.ones(len(t)) * mu, np.eye(len(t)) * var, size=shape).T\n",
    "        print(gaussian_samples[:, 0])\n",
    "        \n",
    "        mask_spikes = gaussian_samples > 0\n",
    "            \n",
    "        return mask_spikes"
   ]
  },
  {
   "cell_type": "code",
   "execution_count": 58,
   "metadata": {},
   "outputs": [
    {
     "name": "stdout",
     "output_type": "stream",
     "text": [
      "0.01 -2.3263478740408408\n",
      "[-2.30744134 -0.67529888 -0.38457111 ... -2.64873573 -1.94806413\n",
      " -3.10625501]\n"
     ]
    }
   ],
   "source": [
    "dg = DichotomizedGaussian(lam=10)\n",
    "t = np.arange(0, 2, 1e-3)\n",
    "\n",
    "mask_spikes = dg.sample(t, shape=(100,))"
   ]
  },
  {
   "cell_type": "code",
   "execution_count": 59,
   "metadata": {},
   "outputs": [
    {
     "data": {
      "text/plain": [
       "19.96"
      ]
     },
     "execution_count": 59,
     "metadata": {},
     "output_type": "execute_result"
    }
   ],
   "source": [
    "np.mean(np.sum(mask_spikes, 0))"
   ]
  },
  {
   "cell_type": "code",
   "execution_count": 19,
   "metadata": {},
   "outputs": [
    {
     "data": {
      "text/plain": [
       "(0.6554217416103242, 0.3445782583896758, 0.3445782583896758)"
      ]
     },
     "execution_count": 19,
     "metadata": {},
     "output_type": "execute_result"
    }
   ],
   "source": [
    "p = 0.4\n",
    "1 / 2 * (1 + erf(p / np.sqrt(2))), 1 / 2 * (1 + erf(-p / np.sqrt(2))), 1 - 1 / 2 * (1 + erf(p / np.sqrt(2)))"
   ]
  },
  {
   "cell_type": "code",
   "execution_count": null,
   "metadata": {},
   "outputs": [],
   "source": []
  }
 ],
 "metadata": {
  "kernelspec": {
   "display_name": "Python 3",
   "language": "python",
   "name": "python3"
  },
  "language_info": {
   "codemirror_mode": {
    "name": "ipython",
    "version": 3
   },
   "file_extension": ".py",
   "mimetype": "text/x-python",
   "name": "python",
   "nbconvert_exporter": "python",
   "pygments_lexer": "ipython3",
   "version": "3.6.9"
  }
 },
 "nbformat": 4,
 "nbformat_minor": 2
}
